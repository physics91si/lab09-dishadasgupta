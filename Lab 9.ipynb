{
 "cells": [
  {
   "cell_type": "code",
   "execution_count": 22,
   "metadata": {},
   "outputs": [],
   "source": [
    "# %load particle.py\n",
    "# Physics 91SI\n",
    "# Spring 2018\n",
    "# Lab 9\n",
    "\n",
    "import numpy as np\n",
    "\n",
    "class Particle:\n",
    "    \"\"\"Stores information about a particle with mass, position, and velocity.\"\"\"\n",
    "    \n",
    "    def __init__(self, XPosition, YPosition, M):\n",
    "        \"\"\"Create a particle with position (numpy array of len 2) and mass.\"\"\"\n",
    "        self.xpos = XPosition   # Sets x position\n",
    "        self.ypos = YPosition\n",
    "        self.m = M  # Sets mass\n",
    "        # Initial velocity and acceleration set to be zero\n",
    "        self.vel = np.zeros((2,1))\n",
    "        self.acc = np.zeros((2,1))\n"
   ]
  },
  {
   "cell_type": "code",
   "execution_count": 23,
   "metadata": {},
   "outputs": [],
   "source": [
    "particle = Particle(0.3, 0.5, 12)"
   ]
  },
  {
   "cell_type": "code",
   "execution_count": 24,
   "metadata": {},
   "outputs": [
    {
     "data": {
      "text/plain": [
       "0.5"
      ]
     },
     "execution_count": 24,
     "metadata": {},
     "output_type": "execute_result"
    }
   ],
   "source": [
    "particle.ypos"
   ]
  },
  {
   "cell_type": "code",
   "execution_count": 25,
   "metadata": {},
   "outputs": [],
   "source": [
    "# %load molecule.py\n",
    "# Physics 91SI\n",
    "# Spring 2018\n",
    "# Lab 9\n",
    "\n",
    "import numpy as np\n",
    "\n",
    "class Molecule:  \n",
    "   \n",
    "    \n",
    "    def __init__(self, Position1_X, Position1_Y, Position2_X, Position2_Y, M1, M2, k, L0):\n",
    "        \"\"\"Create a particle with position (numpy array of len 2) and mass.\"\"\"\n",
    "        self.posX1 = Position1_X\n",
    "        self.posY1 = Position1_Y\n",
    "        self.posX2 = Position2_X\n",
    "        self.posY2 = Position2_Y\n",
    "        self.m1 = M1\n",
    "        self.m2 = M2\n",
    "        self.spr = k\n",
    "        self.eq = L0\n",
    "    \n",
    "    def get_disp(self):\n",
    "        return (((self.posX2 - self.posX1)**2) + ((self.posY2 - self.posY1)**2))**(1/2)\n",
    "    \n",
    "    def get_force(self):\n",
    "        stretch = self.get_disp()\n",
    "        return self.spr*(stretch - self.eq)\n",
    "    \n"
   ]
  },
  {
   "cell_type": "code",
   "execution_count": 18,
   "metadata": {},
   "outputs": [
    {
     "data": {
      "text/plain": [
       "-36.20101012677667"
      ]
     },
     "execution_count": 18,
     "metadata": {},
     "output_type": "execute_result"
    }
   ],
   "source": [
    "mol = Molecule(1 ,2, 3, 4, 5, 6, 7, 8)\n",
    "mol.get_force()"
   ]
  },
  {
   "cell_type": "code",
   "execution_count": 1,
   "metadata": {},
   "outputs": [
    {
     "ename": "NameError",
     "evalue": "name 'Particle' is not defined",
     "output_type": "error",
     "traceback": [
      "\u001b[1;31m---------------------------------------------------------------------------\u001b[0m",
      "\u001b[1;31mNameError\u001b[0m                                 Traceback (most recent call last)",
      "\u001b[1;32m<ipython-input-1-68b415fd107c>\u001b[0m in \u001b[0;36m<module>\u001b[1;34m()\u001b[0m\n\u001b[0;32m     63\u001b[0m     \u001b[0mn\u001b[0m \u001b[1;33m=\u001b[0m \u001b[1;36m10\u001b[0m\u001b[1;33m\u001b[0m\u001b[0m\n\u001b[0;32m     64\u001b[0m     \u001b[0mdt\u001b[0m \u001b[1;33m=\u001b[0m \u001b[1;36m.1\u001b[0m\u001b[1;33m\u001b[0m\u001b[0m\n\u001b[1;32m---> 65\u001b[1;33m     \u001b[0mrun_dynamics\u001b[0m\u001b[1;33m(\u001b[0m\u001b[0mn\u001b[0m\u001b[1;33m,\u001b[0m \u001b[0mdt\u001b[0m\u001b[1;33m)\u001b[0m\u001b[1;33m\u001b[0m\u001b[0m\n\u001b[0m",
      "\u001b[1;32m<ipython-input-1-68b415fd107c>\u001b[0m in \u001b[0;36mrun_dynamics\u001b[1;34m(n, dt, xlim, ylim)\u001b[0m\n\u001b[0;32m     38\u001b[0m \u001b[1;32mdef\u001b[0m \u001b[0mrun_dynamics\u001b[0m\u001b[1;33m(\u001b[0m\u001b[0mn\u001b[0m\u001b[1;33m,\u001b[0m \u001b[0mdt\u001b[0m\u001b[1;33m,\u001b[0m \u001b[0mxlim\u001b[0m\u001b[1;33m=\u001b[0m\u001b[1;33m(\u001b[0m\u001b[1;36m0\u001b[0m\u001b[1;33m,\u001b[0m \u001b[1;36m1\u001b[0m\u001b[1;33m)\u001b[0m\u001b[1;33m,\u001b[0m \u001b[0mylim\u001b[0m\u001b[1;33m=\u001b[0m\u001b[1;33m(\u001b[0m\u001b[1;36m0\u001b[0m\u001b[1;33m,\u001b[0m \u001b[1;36m1\u001b[0m\u001b[1;33m)\u001b[0m\u001b[1;33m)\u001b[0m\u001b[1;33m:\u001b[0m\u001b[1;33m\u001b[0m\u001b[0m\n\u001b[0;32m     39\u001b[0m     \u001b[1;34m\"\"\"Calculate each successive time step and animate it\"\"\"\u001b[0m\u001b[1;33m\u001b[0m\u001b[0m\n\u001b[1;32m---> 40\u001b[1;33m     \u001b[0mmol\u001b[0m \u001b[1;33m=\u001b[0m \u001b[0minit_molecule\u001b[0m\u001b[1;33m(\u001b[0m\u001b[1;33m)\u001b[0m\u001b[1;33m\u001b[0m\u001b[0m\n\u001b[0m\u001b[0;32m     41\u001b[0m \u001b[1;33m\u001b[0m\u001b[0m\n\u001b[0;32m     42\u001b[0m     \u001b[1;31m# Animation stuff\u001b[0m\u001b[1;33m\u001b[0m\u001b[1;33m\u001b[0m\u001b[0m\n",
      "\u001b[1;32m<ipython-input-1-68b415fd107c>\u001b[0m in \u001b[0;36minit_molecule\u001b[1;34m()\u001b[0m\n\u001b[0;32m     17\u001b[0m     \"\"\"Create Particles p1 and p2 inside boundaries and return a molecule\n\u001b[0;32m     18\u001b[0m     connecting them\"\"\"    \n\u001b[1;32m---> 19\u001b[1;33m     \u001b[0mp1\u001b[0m \u001b[1;33m=\u001b[0m \u001b[0mParticle\u001b[0m\u001b[1;33m(\u001b[0m\u001b[1;36m0.4\u001b[0m\u001b[1;33m,\u001b[0m \u001b[1;36m0\u001b[0m\u001b[1;33m,\u001b[0m\u001b[1;36m5\u001b[0m\u001b[1;33m,\u001b[0m \u001b[1;36m1\u001b[0m\u001b[1;33m)\u001b[0m\u001b[1;33m\u001b[0m\u001b[0m\n\u001b[0m\u001b[0;32m     20\u001b[0m     \u001b[0mp2\u001b[0m \u001b[1;33m=\u001b[0m \u001b[0mParticle\u001b[0m\u001b[1;33m(\u001b[0m\u001b[1;36m0.56\u001b[0m\u001b[1;33m,\u001b[0m \u001b[1;36m0.24\u001b[0m\u001b[1;33m,\u001b[0m \u001b[1;36m2\u001b[0m\u001b[1;33m)\u001b[0m\u001b[1;33m\u001b[0m\u001b[0m\n\u001b[0;32m     21\u001b[0m \u001b[1;33m\u001b[0m\u001b[0m\n",
      "\u001b[1;31mNameError\u001b[0m: name 'Particle' is not defined"
     ]
    }
   ],
   "source": [
    "# %load dynamics.py\n",
    "# Physics 91SI\n",
    "# Spring 2018\n",
    "# Lab 8\n",
    "\n",
    "# Modules you won't need\n",
    "import sys\n",
    "import matplotlib.pyplot as plt\n",
    "import matplotlib.animation as animation\n",
    "\n",
    "# Modules you will need\n",
    "import numpy as np\n",
    "import particle\n",
    "\n",
    "# TODO: Implement this function\n",
    "def init_molecule():\n",
    "    \"\"\"Create Particles p1 and p2 inside boundaries and return a molecule\n",
    "    connecting them\"\"\"    \n",
    "    p1 = Particle(0.4, 0,5, 1)\n",
    "    p2 = Particle(0.56, 0.24, 2)\n",
    "    \n",
    "    mol = Molecule(p1.xpos, p1.ypos, p2.xpos, p2.ypos, p1.m, p2.m, 10, 10)\n",
    "    \n",
    "    return mol\n",
    "\n",
    "# TODO: Implement this function\n",
    "def time_step(dt, mol):\n",
    "    \"\"\"Sets new positions and velocities of the particles attached to mol\"\"\"\n",
    "    \n",
    "    newV = mol.get_disp()/(dt/2) + (mol.get_force()/(mol.m1+mol.m2))*dt\n",
    "    newX = mol.posX1 + newV*dt\n",
    "\n",
    "\n",
    "#############################################\n",
    "# The rest of the file is already implemented\n",
    "#############################################\n",
    "\n",
    "def run_dynamics(n, dt, xlim=(0, 1), ylim=(0, 1)):\n",
    "    \"\"\"Calculate each successive time step and animate it\"\"\"\n",
    "    mol = init_molecule()\n",
    "\n",
    "    # Animation stuff\n",
    "    fig, ax = plt.subplots()\n",
    "    line, = ax.plot((mol.p1.pos[0], mol.p2.pos[0]), (mol.p1.pos[1], mol.p2.pos[1]), '-o')\n",
    "    plt.xlim(xlim)\n",
    "    plt.ylim(ylim)\n",
    "    plt.xlabel(r'$x$')\n",
    "    plt.ylabel(r'$y$')\n",
    "    plt.title('Dynamics simulation')\n",
    "    dynamic_ani = animation.FuncAnimation(fig, update_anim, n,\n",
    "            fargs=(dt, mol,line), interval=50, blit=False)\n",
    "    plt.show()\n",
    "\n",
    "def update_anim(i,dt, mol,line):\n",
    "    \"\"\"Update and draw the molecule. Called by FuncAnimation\"\"\"\n",
    "    time_step(dt, mol)\n",
    "    line.set_data([(mol.p1.pos[0], mol.p2.pos[0]),\n",
    "                   (mol.p1.pos[1], mol.p2.pos[1])])\n",
    "    return line,\n",
    "\n",
    "if __name__ == '__main__':\n",
    "    # Set the number of iterations and time step size\n",
    "    n = 10\n",
    "    dt = .1\n",
    "    run_dynamics(n, dt)"
   ]
  },
  {
   "cell_type": "code",
   "execution_count": null,
   "metadata": {},
   "outputs": [],
   "source": []
  },
  {
   "cell_type": "code",
   "execution_count": null,
   "metadata": {},
   "outputs": [],
   "source": []
  }
 ],
 "metadata": {
  "kernelspec": {
   "display_name": "Python 3",
   "language": "python",
   "name": "python3"
  },
  "language_info": {
   "codemirror_mode": {
    "name": "ipython",
    "version": 3
   },
   "file_extension": ".py",
   "mimetype": "text/x-python",
   "name": "python",
   "nbconvert_exporter": "python",
   "pygments_lexer": "ipython3",
   "version": "3.6.4"
  }
 },
 "nbformat": 4,
 "nbformat_minor": 2
}
